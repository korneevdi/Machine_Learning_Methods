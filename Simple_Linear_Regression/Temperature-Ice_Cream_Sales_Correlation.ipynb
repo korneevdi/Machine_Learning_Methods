{
 "cells": [
  {
   "cell_type": "markdown",
   "id": "d2a8ea15",
   "metadata": {},
   "source": [
    "## Import libraries"
   ]
  },
  {
   "cell_type": "code",
   "execution_count": 23,
   "id": "29521254",
   "metadata": {},
   "outputs": [],
   "source": [
    "from sklearn import linear_model\n",
    "from sklearn.metrics import r2_score\n",
    "import matplotlib.pyplot as plt\n",
    "import pandas as pd\n",
    "import numpy as np"
   ]
  },
  {
   "cell_type": "markdown",
   "id": "d65054ab",
   "metadata": {},
   "source": [
    "## Load and filter data"
   ]
  },
  {
   "cell_type": "code",
   "execution_count": 24,
   "id": "b90c50e7",
   "metadata": {},
   "outputs": [
    {
     "data": {
      "text/html": [
       "<div>\n",
       "<style scoped>\n",
       "    .dataframe tbody tr th:only-of-type {\n",
       "        vertical-align: middle;\n",
       "    }\n",
       "\n",
       "    .dataframe tbody tr th {\n",
       "        vertical-align: top;\n",
       "    }\n",
       "\n",
       "    .dataframe thead th {\n",
       "        text-align: right;\n",
       "    }\n",
       "</style>\n",
       "<table border=\"1\" class=\"dataframe\">\n",
       "  <thead>\n",
       "    <tr style=\"text-align: right;\">\n",
       "      <th></th>\n",
       "      <th>Temperature (F)</th>\n",
       "      <th>Ice Cream Profits</th>\n",
       "    </tr>\n",
       "  </thead>\n",
       "  <tbody>\n",
       "    <tr>\n",
       "      <th>0</th>\n",
       "      <td>39</td>\n",
       "      <td>13.17</td>\n",
       "    </tr>\n",
       "    <tr>\n",
       "      <th>1</th>\n",
       "      <td>40</td>\n",
       "      <td>11.88</td>\n",
       "    </tr>\n",
       "    <tr>\n",
       "      <th>2</th>\n",
       "      <td>41</td>\n",
       "      <td>18.82</td>\n",
       "    </tr>\n",
       "    <tr>\n",
       "      <th>3</th>\n",
       "      <td>42</td>\n",
       "      <td>18.65</td>\n",
       "    </tr>\n",
       "    <tr>\n",
       "      <th>4</th>\n",
       "      <td>43</td>\n",
       "      <td>17.02</td>\n",
       "    </tr>\n",
       "  </tbody>\n",
       "</table>\n",
       "</div>"
      ],
      "text/plain": [
       "   Temperature (F)  Ice Cream Profits\n",
       "0               39              13.17\n",
       "1               40              11.88\n",
       "2               41              18.82\n",
       "3               42              18.65\n",
       "4               43              17.02"
      ]
     },
     "execution_count": 24,
     "metadata": {},
     "output_type": "execute_result"
    }
   ],
   "source": [
    "df_initial = pd.read_csv('Ice_Cream_Sales-Temperatures.csv')\n",
    "df_initial.head()"
   ]
  },
  {
   "cell_type": "markdown",
   "id": "22151128",
   "metadata": {},
   "source": [
    "Replace Fahrenheit with Celsius"
   ]
  },
  {
   "cell_type": "code",
   "execution_count": 25,
   "id": "54ec396b",
   "metadata": {},
   "outputs": [
    {
     "data": {
      "text/html": [
       "<div>\n",
       "<style scoped>\n",
       "    .dataframe tbody tr th:only-of-type {\n",
       "        vertical-align: middle;\n",
       "    }\n",
       "\n",
       "    .dataframe tbody tr th {\n",
       "        vertical-align: top;\n",
       "    }\n",
       "\n",
       "    .dataframe thead th {\n",
       "        text-align: right;\n",
       "    }\n",
       "</style>\n",
       "<table border=\"1\" class=\"dataframe\">\n",
       "  <thead>\n",
       "    <tr style=\"text-align: right;\">\n",
       "      <th></th>\n",
       "      <th>TemperatureCelsius</th>\n",
       "      <th>IceCreamProfits</th>\n",
       "    </tr>\n",
       "  </thead>\n",
       "  <tbody>\n",
       "    <tr>\n",
       "      <th>0</th>\n",
       "      <td>3.888889</td>\n",
       "      <td>13.17</td>\n",
       "    </tr>\n",
       "    <tr>\n",
       "      <th>1</th>\n",
       "      <td>4.444444</td>\n",
       "      <td>11.88</td>\n",
       "    </tr>\n",
       "    <tr>\n",
       "      <th>2</th>\n",
       "      <td>5.000000</td>\n",
       "      <td>18.82</td>\n",
       "    </tr>\n",
       "    <tr>\n",
       "      <th>3</th>\n",
       "      <td>5.555556</td>\n",
       "      <td>18.65</td>\n",
       "    </tr>\n",
       "    <tr>\n",
       "      <th>4</th>\n",
       "      <td>6.111111</td>\n",
       "      <td>17.02</td>\n",
       "    </tr>\n",
       "  </tbody>\n",
       "</table>\n",
       "</div>"
      ],
      "text/plain": [
       "   TemperatureCelsius  IceCreamProfits\n",
       "0            3.888889            13.17\n",
       "1            4.444444            11.88\n",
       "2            5.000000            18.82\n",
       "3            5.555556            18.65\n",
       "4            6.111111            17.02"
      ]
     },
     "execution_count": 25,
     "metadata": {},
     "output_type": "execute_result"
    }
   ],
   "source": [
    "df = df_initial.copy()\n",
    "df['Temperature (F)'] = df['Temperature (F)'].apply(lambda F: 5/9*(F-32))\n",
    "df.rename(columns={'Temperature (F)': 'TemperatureCelsius'}, inplace=True)\n",
    "df.rename(columns={'Ice Cream Profits': 'IceCreamProfits'}, inplace=True)\n",
    "df.head()"
   ]
  },
  {
   "cell_type": "code",
   "execution_count": 26,
   "id": "165ca081",
   "metadata": {},
   "outputs": [
    {
     "data": {
      "text/html": [
       "<div>\n",
       "<style scoped>\n",
       "    .dataframe tbody tr th:only-of-type {\n",
       "        vertical-align: middle;\n",
       "    }\n",
       "\n",
       "    .dataframe tbody tr th {\n",
       "        vertical-align: top;\n",
       "    }\n",
       "\n",
       "    .dataframe thead th {\n",
       "        text-align: right;\n",
       "    }\n",
       "</style>\n",
       "<table border=\"1\" class=\"dataframe\">\n",
       "  <thead>\n",
       "    <tr style=\"text-align: right;\">\n",
       "      <th></th>\n",
       "      <th>TemperatureCelsius</th>\n",
       "      <th>IceCreamProfits</th>\n",
       "    </tr>\n",
       "  </thead>\n",
       "  <tbody>\n",
       "    <tr>\n",
       "      <th>count</th>\n",
       "      <td>365.000000</td>\n",
       "      <td>365.000000</td>\n",
       "    </tr>\n",
       "    <tr>\n",
       "      <th>mean</th>\n",
       "      <td>22.211568</td>\n",
       "      <td>52.103616</td>\n",
       "    </tr>\n",
       "    <tr>\n",
       "      <th>std</th>\n",
       "      <td>7.365839</td>\n",
       "      <td>15.989004</td>\n",
       "    </tr>\n",
       "    <tr>\n",
       "      <th>min</th>\n",
       "      <td>3.888889</td>\n",
       "      <td>11.880000</td>\n",
       "    </tr>\n",
       "    <tr>\n",
       "      <th>25%</th>\n",
       "      <td>17.222222</td>\n",
       "      <td>40.650000</td>\n",
       "    </tr>\n",
       "    <tr>\n",
       "      <th>50%</th>\n",
       "      <td>22.777778</td>\n",
       "      <td>53.620000</td>\n",
       "    </tr>\n",
       "    <tr>\n",
       "      <th>75%</th>\n",
       "      <td>27.777778</td>\n",
       "      <td>63.630000</td>\n",
       "    </tr>\n",
       "    <tr>\n",
       "      <th>max</th>\n",
       "      <td>38.333333</td>\n",
       "      <td>89.290000</td>\n",
       "    </tr>\n",
       "  </tbody>\n",
       "</table>\n",
       "</div>"
      ],
      "text/plain": [
       "       TemperatureCelsius  IceCreamProfits\n",
       "count          365.000000       365.000000\n",
       "mean            22.211568        52.103616\n",
       "std              7.365839        15.989004\n",
       "min              3.888889        11.880000\n",
       "25%             17.222222        40.650000\n",
       "50%             22.777778        53.620000\n",
       "75%             27.777778        63.630000\n",
       "max             38.333333        89.290000"
      ]
     },
     "execution_count": 26,
     "metadata": {},
     "output_type": "execute_result"
    }
   ],
   "source": [
    "df.describe()"
   ]
  },
  {
   "cell_type": "markdown",
   "id": "bef30d8b",
   "metadata": {},
   "source": [
    "## Vizualize data"
   ]
  },
  {
   "cell_type": "code",
   "execution_count": 27,
   "id": "9b6aa472",
   "metadata": {},
   "outputs": [
    {
     "data": {
      "image/png": "[encoded data removed]",
      "text/plain": [
       "<Figure size 640x480 with 1 Axes>"
      ]
     },
     "metadata": {},
     "output_type": "display_data"
    }
   ],
   "source": [
    "plt.scatter(df.TemperatureCelsius, df.IceCreamProfits, color = 'blue')\n",
    "plt.xlabel(\"Temperature (C)\")\n",
    "plt.ylabel(\"Ice cream profits\")\n",
    "plt.show()"
   ]
  },
  {
   "cell_type": "markdown",
   "id": "12ab1306",
   "metadata": {},
   "source": [
    "## Split data into train and test sets"
   ]
  },
  {
   "cell_type": "code",
   "execution_count": 28,
   "id": "68aeb12d",
   "metadata": {},
   "outputs": [],
   "source": [
    "msk = np.random.rand(len(df)) < 0.8\n",
    "train_set = df[msk]\n",
    "test_set = df[~msk]"
   ]
  },
  {
   "cell_type": "markdown",
   "id": "8a5870f5",
   "metadata": {},
   "source": [
    "## Train the model"
   ]
  },
  {
   "cell_type": "code",
   "execution_count": 29,
   "id": "08e9b6d6",
   "metadata": {},
   "outputs": [
    {
     "name": "stdout",
     "output_type": "stream",
     "text": [
      "Coefficients: [[2.14610254]]\n",
      "Intercept: [4.39100604]\n"
     ]
    }
   ],
   "source": [
    "# Create the model\n",
    "model = linear_model.LinearRegression()\n",
    "\n",
    "# Create feature and target arrays\n",
    "X_train = np.asanyarray(train_set[['TemperatureCelsius']])\n",
    "Y_train = np.asanyarray(train_set[['IceCreamProfits']])\n",
    "\n",
    "# Fit the model\n",
    "model.fit(X_train, Y_train)\n",
    "\n",
    "print(\"Coefficients:\", model.coef_)\n",
    "print(\"Intercept:\", model.intercept_)"
   ]
  },
  {
   "cell_type": "markdown",
   "id": "c7b1bbdd",
   "metadata": {},
   "source": [
    "## Vizualize the model"
   ]
  },
  {
   "cell_type": "code",
   "execution_count": 30,
   "id": "2d6dbd0f",
   "metadata": {},
   "outputs": [
    {
     "data": {
      "text/plain": [
       "Text(0, 0.5, 'Ice cream profits')"
      ]
     },
     "execution_count": 30,
     "metadata": {},
     "output_type": "execute_result"
    },
    {
     "data": {
      "image/png": "[encoded data removed]",
      "text/plain": [
       "<Figure size 640x480 with 1 Axes>"
      ]
     },
     "metadata": {},
     "output_type": "display_data"
    }
   ],
   "source": [
    "plt.scatter(df.TemperatureCelsius, df.IceCreamProfits, color = 'blue')\n",
    "plt.plot(X_train, model.coef_[0][0]*X_train + model.intercept_[0], color = 'red')\n",
    "plt.xlabel(\"Temperature (C)\")\n",
    "plt.ylabel(\"Ice cream profits\")"
   ]
  },
  {
   "cell_type": "markdown",
   "id": "01594a8a",
   "metadata": {},
   "source": [
    "## Test the model"
   ]
  },
  {
   "cell_type": "code",
   "execution_count": 32,
   "id": "13240b8b",
   "metadata": {},
   "outputs": [
    {
     "name": "stdout",
     "output_type": "stream",
     "text": [
      "Mean Absolute Error: 2.10\n",
      "Mean Squared Erroe: 7.33\n",
      "R2-score: 0.97\n"
     ]
    }
   ],
   "source": [
    "X_test = np.asanyarray(test_set[['TemperatureCelsius']])\n",
    "Y_test = np.asanyarray(test_set[['IceCreamProfits']])\n",
    "Y_predict = model.predict(X_test)\n",
    "\n",
    "print(\"Mean Absolute Error: %.2f\" % np.mean(np.absolute(Y_predict - Y_test)))\n",
    "print(\"Mean Squared Erroe: %.2f\" % np.mean((Y_predict - Y_test)**2))\n",
    "print(\"R2-score: %.2f\" % r2_score(Y_predict, Y_test))"
   ]
  },
  {
   "cell_type": "markdown",
   "id": "065e326c",
   "metadata": {},
   "source": [
    "## Make prediction for new data"
   ]
  },
  {
   "cell_type": "code",
   "execution_count": null,
   "id": "f21c84df",
   "metadata": {},
   "outputs": [],
   "source": [
    "new_data = np.array([[-2]])\n",
    "prediction = model.predict(new_data)\n",
    "\n",
    "print(\"Engine size: \", new_data)\n",
    "print(\"CO2 emission prediction: %.2f\" % prediction)"
   ]
  }
 ],
 "metadata": {
  "kernelspec": {
   "display_name": "Python 3 (ipykernel)",
   "language": "python",
   "name": "python3"
  },
  "language_info": {
   "codemirror_mode": {
    "name": "ipython",
    "version": 3
   },
   "file_extension": ".py",
   "mimetype": "text/x-python",
   "name": "python",
   "nbconvert_exporter": "python",
   "pygments_lexer": "ipython3",
   "version": "3.11.2"
  }
 },
 "nbformat": 4,
 "nbformat_minor": 5
}
